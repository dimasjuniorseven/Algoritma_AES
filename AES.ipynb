{
 "cells": [
  {
   "cell_type": "code",
   "execution_count": 25,
   "id": "370606d3-602a-402a-8f13-3526b45cdb0d",
   "metadata": {},
   "outputs": [
    {
     "name": "stdout",
     "output_type": "stream",
     "text": [
      "Plaintext asli  :  Sabbe Satta Bhavantu Sukhitatta\n",
      "Ciphertext      :  286e2b8618a0b7826becc15277c4471e845641d292f175ec2f9d41b5846f964b\n",
      "Hasil deskripsi :  Sabbe Satta Bhavantu Sukhitatta\n"
     ]
    }
   ],
   "source": [
    "from Crypto.Cipher import AES \n",
    "from Crypto.Util.Padding import pad, unpad\n",
    "from Crypto.Random import get_random_bytes\n",
    "\n",
    "# Input String\n",
    "plaintext = \"Sabbe Satta Bhavantu Sukhitatta\"\n",
    "key = b\"DIMASOKTAVIANPRA\"\n",
    "\n",
    "#Convert plaintext ke bytes dan pad ke blok 16 bytes\n",
    "data = plaintext.encode(\"utf-8\")\n",
    "data_padded = pad(data, AES.block_size)\n",
    "\n",
    "#Enskripsi\n",
    "cipher = AES.new(key, AES.MODE_ECB) #MODE_ECB untuk AES Dasar\n",
    "ciphertext = cipher.encrypt(data_padded)\n",
    "\n",
    "#Deskripsi\n",
    "cipher_dec = AES.new(key, AES.MODE_ECB)\n",
    "decrypted = unpad(cipher_dec.decrypt(ciphertext), AES.block_size)\n",
    "\n",
    "print(\"Plaintext asli  : \", plaintext)\n",
    "print(\"Ciphertext      : \", ciphertext.hex())\n",
    "print(\"Hasil deskripsi : \", decrypted.decode(\"utf-8\"))"
   ]
  }
 ],
 "metadata": {
  "kernelspec": {
   "display_name": "Python [conda env:base] *",
   "language": "python",
   "name": "conda-base-py"
  },
  "language_info": {
   "codemirror_mode": {
    "name": "ipython",
    "version": 3
   },
   "file_extension": ".py",
   "mimetype": "text/x-python",
   "name": "python",
   "nbconvert_exporter": "python",
   "pygments_lexer": "ipython3",
   "version": "3.12.7"
  }
 },
 "nbformat": 4,
 "nbformat_minor": 5
}
